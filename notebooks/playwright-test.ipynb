{
 "cells": [
  {
   "cell_type": "code",
   "execution_count": 2,
   "id": "05bd6532",
   "metadata": {},
   "outputs": [
    {
     "ename": "TimeoutError",
     "evalue": "Page.goto: Timeout 30000ms exceeded.\nCall log:\n  - navigating to \"http://127.0.0.1:8888/customer/address/\", waiting until \"load\"\n",
     "output_type": "error",
     "traceback": [
      "\u001b[31m---------------------------------------------------------------------------\u001b[39m",
      "\u001b[31mTimeoutError\u001b[39m                              Traceback (most recent call last)",
      "\u001b[36mCell\u001b[39m\u001b[36m \u001b[39m\u001b[32mIn[2]\u001b[39m\u001b[32m, line 25\u001b[39m\n\u001b[32m     23\u001b[39m \u001b[38;5;66;03m# await context.add_init_script(open(\"initscript.js\").read())\u001b[39;00m\n\u001b[32m     24\u001b[39m page = \u001b[38;5;28;01mawait\u001b[39;00m context.new_page()\n\u001b[32m---> \u001b[39m\u001b[32m25\u001b[39m \u001b[38;5;28;01mawait\u001b[39;00m page.goto(\u001b[33m\"\u001b[39m\u001b[33mhttp://127.0.0.1:8888/customer/address/\u001b[39m\u001b[33m\"\u001b[39m)\n",
      "\u001b[36mFile \u001b[39m\u001b[32m~/code/rl_web_agent/.venv/lib/python3.12/site-packages/playwright/async_api/_generated.py:8975\u001b[39m, in \u001b[36mPage.goto\u001b[39m\u001b[34m(self, url, timeout, wait_until, referer)\u001b[39m\n\u001b[32m   8914\u001b[39m \u001b[38;5;28;01masync\u001b[39;00m \u001b[38;5;28;01mdef\u001b[39;00m\u001b[38;5;250m \u001b[39m\u001b[34mgoto\u001b[39m(\n\u001b[32m   8915\u001b[39m     \u001b[38;5;28mself\u001b[39m,\n\u001b[32m   8916\u001b[39m     url: \u001b[38;5;28mstr\u001b[39m,\n\u001b[32m   (...)\u001b[39m\u001b[32m   8922\u001b[39m     referer: typing.Optional[\u001b[38;5;28mstr\u001b[39m] = \u001b[38;5;28;01mNone\u001b[39;00m,\n\u001b[32m   8923\u001b[39m ) -> typing.Optional[\u001b[33m\"\u001b[39m\u001b[33mResponse\u001b[39m\u001b[33m\"\u001b[39m]:\n\u001b[32m   8924\u001b[39m \u001b[38;5;250m    \u001b[39m\u001b[33;03m\"\"\"Page.goto\u001b[39;00m\n\u001b[32m   8925\u001b[39m \n\u001b[32m   8926\u001b[39m \u001b[33;03m    Returns the main resource response. In case of multiple redirects, the navigation will resolve with the first\u001b[39;00m\n\u001b[32m   (...)\u001b[39m\u001b[32m   8971\u001b[39m \u001b[33;03m    Union[Response, None]\u001b[39;00m\n\u001b[32m   8972\u001b[39m \u001b[33;03m    \"\"\"\u001b[39;00m\n\u001b[32m   8974\u001b[39m     \u001b[38;5;28;01mreturn\u001b[39;00m mapping.from_impl_nullable(\n\u001b[32m-> \u001b[39m\u001b[32m8975\u001b[39m         \u001b[38;5;28;01mawait\u001b[39;00m \u001b[38;5;28mself\u001b[39m._impl_obj.goto(\n\u001b[32m   8976\u001b[39m             url=url, timeout=timeout, waitUntil=wait_until, referer=referer\n\u001b[32m   8977\u001b[39m         )\n\u001b[32m   8978\u001b[39m     )\n",
      "\u001b[36mFile \u001b[39m\u001b[32m~/code/rl_web_agent/.venv/lib/python3.12/site-packages/playwright/_impl/_page.py:556\u001b[39m, in \u001b[36mPage.goto\u001b[39m\u001b[34m(self, url, timeout, waitUntil, referer)\u001b[39m\n\u001b[32m    549\u001b[39m \u001b[38;5;28;01masync\u001b[39;00m \u001b[38;5;28;01mdef\u001b[39;00m\u001b[38;5;250m \u001b[39m\u001b[34mgoto\u001b[39m(\n\u001b[32m    550\u001b[39m     \u001b[38;5;28mself\u001b[39m,\n\u001b[32m    551\u001b[39m     url: \u001b[38;5;28mstr\u001b[39m,\n\u001b[32m   (...)\u001b[39m\u001b[32m    554\u001b[39m     referer: \u001b[38;5;28mstr\u001b[39m = \u001b[38;5;28;01mNone\u001b[39;00m,\n\u001b[32m    555\u001b[39m ) -> Optional[Response]:\n\u001b[32m--> \u001b[39m\u001b[32m556\u001b[39m     \u001b[38;5;28;01mreturn\u001b[39;00m \u001b[38;5;28;01mawait\u001b[39;00m \u001b[38;5;28mself\u001b[39m._main_frame.goto(**locals_to_params(\u001b[38;5;28mlocals\u001b[39m()))\n",
      "\u001b[36mFile \u001b[39m\u001b[32m~/code/rl_web_agent/.venv/lib/python3.12/site-packages/playwright/_impl/_frame.py:146\u001b[39m, in \u001b[36mFrame.goto\u001b[39m\u001b[34m(self, url, timeout, waitUntil, referer)\u001b[39m\n\u001b[32m    136\u001b[39m \u001b[38;5;28;01masync\u001b[39;00m \u001b[38;5;28;01mdef\u001b[39;00m\u001b[38;5;250m \u001b[39m\u001b[34mgoto\u001b[39m(\n\u001b[32m    137\u001b[39m     \u001b[38;5;28mself\u001b[39m,\n\u001b[32m    138\u001b[39m     url: \u001b[38;5;28mstr\u001b[39m,\n\u001b[32m   (...)\u001b[39m\u001b[32m    141\u001b[39m     referer: \u001b[38;5;28mstr\u001b[39m = \u001b[38;5;28;01mNone\u001b[39;00m,\n\u001b[32m    142\u001b[39m ) -> Optional[Response]:\n\u001b[32m    143\u001b[39m     \u001b[38;5;28;01mreturn\u001b[39;00m cast(\n\u001b[32m    144\u001b[39m         Optional[Response],\n\u001b[32m    145\u001b[39m         from_nullable_channel(\n\u001b[32m--> \u001b[39m\u001b[32m146\u001b[39m             \u001b[38;5;28;01mawait\u001b[39;00m \u001b[38;5;28mself\u001b[39m._channel.send(\n\u001b[32m    147\u001b[39m                 \u001b[33m\"\u001b[39m\u001b[33mgoto\u001b[39m\u001b[33m\"\u001b[39m, \u001b[38;5;28mself\u001b[39m._navigation_timeout, locals_to_params(\u001b[38;5;28mlocals\u001b[39m())\n\u001b[32m    148\u001b[39m             )\n\u001b[32m    149\u001b[39m         ),\n\u001b[32m    150\u001b[39m     )\n",
      "\u001b[36mFile \u001b[39m\u001b[32m~/code/rl_web_agent/.venv/lib/python3.12/site-packages/playwright/_impl/_connection.py:69\u001b[39m, in \u001b[36mChannel.send\u001b[39m\u001b[34m(self, method, timeout_calculator, params, is_internal, title)\u001b[39m\n\u001b[32m     61\u001b[39m \u001b[38;5;28;01masync\u001b[39;00m \u001b[38;5;28;01mdef\u001b[39;00m\u001b[38;5;250m \u001b[39m\u001b[34msend\u001b[39m(\n\u001b[32m     62\u001b[39m     \u001b[38;5;28mself\u001b[39m,\n\u001b[32m     63\u001b[39m     method: \u001b[38;5;28mstr\u001b[39m,\n\u001b[32m   (...)\u001b[39m\u001b[32m     67\u001b[39m     title: \u001b[38;5;28mstr\u001b[39m = \u001b[38;5;28;01mNone\u001b[39;00m,\n\u001b[32m     68\u001b[39m ) -> Any:\n\u001b[32m---> \u001b[39m\u001b[32m69\u001b[39m     \u001b[38;5;28;01mreturn\u001b[39;00m \u001b[38;5;28;01mawait\u001b[39;00m \u001b[38;5;28mself\u001b[39m._connection.wrap_api_call(\n\u001b[32m     70\u001b[39m         \u001b[38;5;28;01mlambda\u001b[39;00m: \u001b[38;5;28mself\u001b[39m._inner_send(method, timeout_calculator, params, \u001b[38;5;28;01mFalse\u001b[39;00m),\n\u001b[32m     71\u001b[39m         is_internal,\n\u001b[32m     72\u001b[39m         title,\n\u001b[32m     73\u001b[39m     )\n",
      "\u001b[36mFile \u001b[39m\u001b[32m~/code/rl_web_agent/.venv/lib/python3.12/site-packages/playwright/_impl/_connection.py:558\u001b[39m, in \u001b[36mConnection.wrap_api_call\u001b[39m\u001b[34m(self, cb, is_internal, title)\u001b[39m\n\u001b[32m    556\u001b[39m     \u001b[38;5;28;01mreturn\u001b[39;00m \u001b[38;5;28;01mawait\u001b[39;00m cb()\n\u001b[32m    557\u001b[39m \u001b[38;5;28;01mexcept\u001b[39;00m \u001b[38;5;167;01mException\u001b[39;00m \u001b[38;5;28;01mas\u001b[39;00m error:\n\u001b[32m--> \u001b[39m\u001b[32m558\u001b[39m     \u001b[38;5;28;01mraise\u001b[39;00m rewrite_error(error, \u001b[33mf\u001b[39m\u001b[33m\"\u001b[39m\u001b[38;5;132;01m{\u001b[39;00mparsed_st[\u001b[33m'\u001b[39m\u001b[33mapiName\u001b[39m\u001b[33m'\u001b[39m]\u001b[38;5;132;01m}\u001b[39;00m\u001b[33m: \u001b[39m\u001b[38;5;132;01m{\u001b[39;00merror\u001b[38;5;132;01m}\u001b[39;00m\u001b[33m\"\u001b[39m) \u001b[38;5;28;01mfrom\u001b[39;00m\u001b[38;5;250m \u001b[39m\u001b[38;5;28;01mNone\u001b[39;00m\n\u001b[32m    559\u001b[39m \u001b[38;5;28;01mfinally\u001b[39;00m:\n\u001b[32m    560\u001b[39m     \u001b[38;5;28mself\u001b[39m._api_zone.set(\u001b[38;5;28;01mNone\u001b[39;00m)\n",
      "\u001b[31mTimeoutError\u001b[39m: Page.goto: Timeout 30000ms exceeded.\nCall log:\n  - navigating to \"http://127.0.0.1:8888/customer/address/\", waiting until \"load\"\n"
     ]
    }
   ],
   "source": [
    "import nest_asyncio\n",
    "\n",
    "nest_asyncio.apply()\n",
    "\n",
    "import asyncio\n",
    "from playwright.async_api import async_playwright\n",
    "import httpx\n",
    "from urllib.parse import urlparse\n",
    "\n",
    "PROXY_URL = \"http://localhost:8082\"  # Your proxy client\n",
    "\n",
    "# async with async_playwright() as p:\n",
    "p = await async_playwright().start()\n",
    "browser = await p.chromium.launch(\n",
    "    headless=False,\n",
    "    proxy={\"server\": \"http://localhost:8082\"},\n",
    "    \n",
    ")\n",
    "# http://127.0.0.1:8888/customer/address/\n",
    "context = await browser.new_context(\n",
    "    # extra_http_headers={\"x-target-host-rewrite\": \"127.0.0.1:8888=10.58.210.19:80\"}\n",
    "    )\n",
    "# await context.add_init_script(open(\"initscript.js\").read())\n",
    "page = await context.new_page()\n",
    "await page.goto(\"http://127.0.0.1:8888/customer/address/\")\n"
   ]
  },
  {
   "cell_type": "code",
   "execution_count": 30,
   "id": "9e958cfe",
   "metadata": {},
   "outputs": [],
   "source": [
    "code = open(\"parser.js\").read()\n",
    "t = await page.evaluate(code)"
   ]
  },
  {
   "cell_type": "code",
   "execution_count": 33,
   "id": "1aadfd75",
   "metadata": {},
   "outputs": [
    {
     "data": {
      "text/plain": [
       "39687"
      ]
     },
     "execution_count": 33,
     "metadata": {},
     "output_type": "execute_result"
    }
   ],
   "source": [
    "open(\"test.html\", \"w\").write(t[\"html\"])"
   ]
  },
  {
   "cell_type": "code",
   "execution_count": 34,
   "id": "23638d92",
   "metadata": {},
   "outputs": [],
   "source": [
    "await page.hover(\"css=[data-semantic-id=bliss_lemon_sage_han]\")\n",
    "t = await page.evaluate(code)\n",
    "# await page.hover(\"css=[data-semantic-id=foot_hand_nail_care]\")\n",
    "# t = await page.evaluate(code)\n",
    "# await page.click(\"css=[data-semantic-id=foot_hand_care]\")\n",
    "# t = await page.evaluate(code)"
   ]
  },
  {
   "cell_type": "code",
   "execution_count": 41,
   "id": "b08a4b5d",
   "metadata": {},
   "outputs": [
    {
     "data": {
      "text/plain": [
       "<module 'rl_web_agent' from '/Users/yuxuanlu/code/rl_web_agent/rl_web_agent/__init__.py'>"
      ]
     },
     "execution_count": 41,
     "metadata": {},
     "output_type": "execute_result"
    }
   ],
   "source": [
    "import rl_web_agent\n",
    "import importlib\n",
    "importlib.reload(rl_web_agent)"
   ]
  },
  {
   "cell_type": "code",
   "execution_count": 43,
   "id": "e3d533c5",
   "metadata": {},
   "outputs": [
    {
     "data": {
      "text/plain": [
       "1"
      ]
     },
     "execution_count": 43,
     "metadata": {},
     "output_type": "execute_result"
    }
   ],
   "source": [
    "rl_web_agent.env.a"
   ]
  },
  {
   "cell_type": "code",
   "execution_count": null,
   "id": "3b8fe56e",
   "metadata": {},
   "outputs": [],
   "source": []
  }
 ],
 "metadata": {
  "kernelspec": {
   "display_name": ".venv",
   "language": "python",
   "name": "python3"
  },
  "language_info": {
   "codemirror_mode": {
    "name": "ipython",
    "version": 3
   },
   "file_extension": ".py",
   "mimetype": "text/x-python",
   "name": "python",
   "nbconvert_exporter": "python",
   "pygments_lexer": "ipython3",
   "version": "3.12.5"
  }
 },
 "nbformat": 4,
 "nbformat_minor": 5
}
