{
 "cells": [
  {
   "cell_type": "code",
   "execution_count": null,
   "id": "3a1c896c",
   "metadata": {},
   "outputs": [],
   "source": []
  },
  {
   "cell_type": "code",
   "execution_count": null,
   "id": "3251756d",
   "metadata": {},
   "outputs": [],
   "source": []
  },
  {
   "cell_type": "code",
   "execution_count": null,
   "id": "8793d4b0",
   "metadata": {},
   "outputs": [],
   "source": []
  },
  {
   "cell_type": "code",
   "execution_count": null,
   "id": "05bd6532",
   "metadata": {},
   "outputs": [],
   "source": [
    "import nest_asyncio\n",
    "\n",
    "nest_asyncio.apply()\n",
    "\n",
    "import asyncio\n",
    "from playwright.async_api import async_playwright\n",
    "import httpx\n",
    "from urllib.parse import urlparse\n",
    "\n",
    "PROXY_URL = \"http://localhost:8080\"  # Your proxy client\n",
    "\n",
    "async with async_playwright() as p:\n",
    "    browser = await p.chromium.launch(\n",
    "        headless=False,\n",
    "        proxy={\"server\": \"http://localhost:8080\"},\n",
    "    )\n",
    "    context = await browser.new_context()\n",
    "    page = await context.new_page()\n",
    "    await page.goto(\"http://test.com/\")\n",
    "\n",
    "\n",
    "    # Keep browser open until closed manually\n",
    "    await asyncio.Event().wait()\n"
   ]
  },
  {
   "cell_type": "code",
   "execution_count": null,
   "id": "9e958cfe",
   "metadata": {},
   "outputs": [],
   "source": []
  }
 ],
 "metadata": {
  "kernelspec": {
   "display_name": ".venv",
   "language": "python",
   "name": "python3"
  },
  "language_info": {
   "codemirror_mode": {
    "name": "ipython",
    "version": 3
   },
   "file_extension": ".py",
   "mimetype": "text/x-python",
   "name": "python",
   "nbconvert_exporter": "python",
   "pygments_lexer": "ipython3",
   "version": "3.12.5"
  }
 },
 "nbformat": 4,
 "nbformat_minor": 5
}
