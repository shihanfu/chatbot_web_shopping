{
 "cells": [
  {
   "cell_type": "code",
   "execution_count": 7,
   "id": "05bd6532",
   "metadata": {},
   "outputs": [
    {
     "data": {
      "text/plain": [
       "<Response url='http://127.0.0.1:8888/customer/address/' request=<Request url='http://127.0.0.1:8888/customer/address/' method='GET'>>"
      ]
     },
     "execution_count": 7,
     "metadata": {},
     "output_type": "execute_result"
    }
   ],
   "source": [
    "import nest_asyncio\n",
    "\n",
    "nest_asyncio.apply()\n",
    "\n",
    "import asyncio\n",
    "from playwright.async_api import async_playwright\n",
    "import httpx\n",
    "from urllib.parse import urlparse\n",
    "\n",
    "PROXY_URL = \"http://localhost:8080\"  # Your proxy client\n",
    "\n",
    "# async with async_playwright() as p:\n",
    "p = await async_playwright().start()\n",
    "browser = await p.chromium.launch(\n",
    "    headless=False,\n",
    "    proxy={\"server\": \"http://localhost:8080\"},\n",
    "    \n",
    ")\n",
    "# http://127.0.0.1:8888/customer/address/\n",
    "context = await browser.new_context(\n",
    "    # extra_http_headers={\"x-target-host-rewrite\": \"127.0.0.1:8888=10.58.210.19:80\"}\n",
    "    extra_http_headers={\"x-target-host-rewrite\": \"metis.lti.cs.cmu.edu:7770=10.58.210.60:80\"}\n",
    ")\n",
    "# await context.add_init_script(open(\"initscript.js\").read())\n",
    "page = await context.new_page()\n",
    "await page.goto(\"http://127.0.0.1:8888/customer/address/\")\n"
   ]
  },
  {
   "cell_type": "code",
   "execution_count": 30,
   "id": "9e958cfe",
   "metadata": {},
   "outputs": [],
   "source": [
    "code = open(\"parser.js\").read()\n",
    "t = await page.evaluate(code)"
   ]
  },
  {
   "cell_type": "code",
   "execution_count": 33,
   "id": "1aadfd75",
   "metadata": {},
   "outputs": [
    {
     "data": {
      "text/plain": [
       "39687"
      ]
     },
     "execution_count": 33,
     "metadata": {},
     "output_type": "execute_result"
    }
   ],
   "source": [
    "open(\"test.html\", \"w\").write(t[\"html\"])"
   ]
  },
  {
   "cell_type": "code",
   "execution_count": 34,
   "id": "23638d92",
   "metadata": {},
   "outputs": [],
   "source": [
    "await page.hover(\"css=[data-semantic-id=bliss_lemon_sage_han]\")\n",
    "t = await page.evaluate(code)\n",
    "# await page.hover(\"css=[data-semantic-id=foot_hand_nail_care]\")\n",
    "# t = await page.evaluate(code)\n",
    "# await page.click(\"css=[data-semantic-id=foot_hand_care]\")\n",
    "# t = await page.evaluate(code)"
   ]
  },
  {
   "cell_type": "code",
   "execution_count": 41,
   "id": "b08a4b5d",
   "metadata": {},
   "outputs": [
    {
     "data": {
      "text/plain": [
       "<module 'rl_web_agent' from '/Users/yuxuanlu/code/rl_web_agent/rl_web_agent/__init__.py'>"
      ]
     },
     "execution_count": 41,
     "metadata": {},
     "output_type": "execute_result"
    }
   ],
   "source": [
    "import rl_web_agent\n",
    "import importlib\n",
    "importlib.reload(rl_web_agent)"
   ]
  },
  {
   "cell_type": "code",
   "execution_count": 43,
   "id": "e3d533c5",
   "metadata": {},
   "outputs": [
    {
     "data": {
      "text/plain": [
       "1"
      ]
     },
     "execution_count": 43,
     "metadata": {},
     "output_type": "execute_result"
    }
   ],
   "source": [
    "rl_web_agent.env.a"
   ]
  },
  {
   "cell_type": "code",
   "execution_count": null,
   "id": "3b8fe56e",
   "metadata": {},
   "outputs": [],
   "source": []
  }
 ],
 "metadata": {
  "kernelspec": {
   "display_name": ".venv",
   "language": "python",
   "name": "python3"
  },
  "language_info": {
   "codemirror_mode": {
    "name": "ipython",
    "version": 3
   },
   "file_extension": ".py",
   "mimetype": "text/x-python",
   "name": "python",
   "nbconvert_exporter": "python",
   "pygments_lexer": "ipython3",
   "version": "3.12.5"
  }
 },
 "nbformat": 4,
 "nbformat_minor": 5
}
